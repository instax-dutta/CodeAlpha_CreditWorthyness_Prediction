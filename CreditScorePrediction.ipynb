{
 "cells": [
  {
   "cell_type": "markdown",
   "metadata": {},
   "source": [
    "# Credit Scoring Model"
   ]
  },
  {
   "cell_type": "markdown",
   "metadata": {},
   "source": [
    "## Develop a credit scoring model to predict the creditworthiness of individuals based on historical financial data. Utilize classification algorithms and assess the model's accuracy."
   ]
  },
  {
   "cell_type": "markdown",
   "metadata": {},
   "source": [
    "## Import Libraries and Load Data"
   ]
  },
  {
   "cell_type": "code",
   "execution_count": 1,
   "metadata": {},
   "outputs": [
    {
     "name": "stdout",
     "output_type": "stream",
     "text": [
      "Training Data Columns and First Few Rows:\n",
      "Index(['x001', 'x002', 'x003', 'x004', 'x005', 'x006', 'x007', 'x008', 'x009',\n",
      "       'x010',\n",
      "       ...\n",
      "       'x296', 'x297', 'x298', 'x299', 'x300', 'x301', 'x302', 'x303', 'x304',\n",
      "       'y'],\n",
      "      dtype='object', length=305)\n",
      "      x001   x002  x003   x004   x005  x006  x007  x008  x009  x010  ...  \\\n",
      "0  1084094  426.0  39.0  128.0  426.0     0     0     0     0     0  ...   \n",
      "1  1287777  160.0   2.0   64.0  160.0     1     1     2     0     1  ...   \n",
      "2  1483016  163.0  16.0  104.0  239.0     0     0     0     1     0  ...   \n",
      "3   959054    NaN   NaN    NaN  102.0     0     0     0     0     0  ...   \n",
      "4  1342113    3.0   2.0    2.0   62.0     0     2     2     0     0  ...   \n",
      "\n",
      "    x296    x297  x298  x299  x300  x301  x302  x303  x304    y  \n",
      "0      0     NaN     0     0     0     0   NaN     0   NaN  807  \n",
      "1  17318  0.8417     1     1     1     0   NaN     0   NaN  819  \n",
      "2      0     NaN     0     0     0     0   NaN     0   NaN  803  \n",
      "3      0     NaN     1     1     1     0   NaN     0   NaN  530  \n",
      "4  17413  1.0180     1     1     1     0   NaN     0   NaN  485  \n",
      "\n",
      "[5 rows x 305 columns]\n",
      "\n",
      "Testing Data Columns and First Few Rows:\n",
      "Index(['x001', 'x002', 'x003', 'x004', 'x005', 'x006', 'x007', 'x008', 'x009',\n",
      "       'x010',\n",
      "       ...\n",
      "       'x296', 'x297', 'x298', 'x299', 'x300', 'x301', 'x302', 'x303', 'x304',\n",
      "       'y'],\n",
      "      dtype='object', length=305)\n",
      "      x001   x002  x003   x004   x005  x006  x007  x008  x009  x010  ...  \\\n",
      "0  1566464   21.0  21.0   21.0   44.0     1     0     0     4     0  ...   \n",
      "1   925102  108.0   2.0   27.0  156.0     0     2     3     3     1  ...   \n",
      "2  1273974  218.0  64.0  107.0  218.0     0     0     0     0     0  ...   \n",
      "3  1456723    NaN   NaN    NaN  146.0     1     0     0     1     1  ...   \n",
      "4   798267    0.0   0.0    0.0  230.0     1     2     4     0     2  ...   \n",
      "\n",
      "    x296   x297  x298  x299  x300  x301  x302   x303   x304    y  \n",
      "0      0    NaN     0     0     1     1   5.0      0    NaN  406  \n",
      "1  13090  0.593     1     1     1     0   1.0      0    NaN  679  \n",
      "2  13689  1.014     1     1     1     0   1.0  13689  1.014  750  \n",
      "3      0    NaN     1     1     1     0   NaN      0    NaN  515  \n",
      "4      0    NaN     1     1     1     0   NaN      0    NaN  589  \n",
      "\n",
      "[5 rows x 305 columns]\n"
     ]
    }
   ],
   "source": [
    "# Import necessary libraries\n",
    "import pandas as pd\n",
    "\n",
    "# Load the datasets\n",
    "train_data = pd.read_csv('CreditScore_train.csv')\n",
    "test_data = pd.read_csv('CreditScore_test.csv')\n",
    "\n",
    "# Display the column names and first few rows of the datasets\n",
    "print(\"Training Data Columns and First Few Rows:\")\n",
    "print(train_data.columns)\n",
    "print(train_data.head())\n",
    "\n",
    "print(\"\\nTesting Data Columns and First Few Rows:\")\n",
    "print(test_data.columns)\n",
    "print(test_data.head())\n"
   ]
  },
  {
   "cell_type": "markdown",
   "metadata": {},
   "source": [
    "#### This block imports the necessary libraries, loads the training and testing datasets, and displays the first few rows of each dataset."
   ]
  },
  {
   "cell_type": "markdown",
   "metadata": {},
   "source": [
    "## Data Preprocessing"
   ]
  },
  {
   "cell_type": "code",
   "execution_count": 2,
   "metadata": {},
   "outputs": [
    {
     "data": {
      "text/plain": [
       "['scaler.joblib']"
      ]
     },
     "execution_count": 2,
     "metadata": {},
     "output_type": "execute_result"
    }
   ],
   "source": [
    "# Check the column names and adjust accordingly\n",
    "target_column = 'y'  # Credit score column\n",
    "\n",
    "# Separate features and target variable from training data\n",
    "X_train = train_data.drop(target_column, axis=1)\n",
    "y_train = train_data[target_column]\n",
    "\n",
    "# Separate features and target variable from testing data\n",
    "X_test = test_data.drop(target_column, axis=1)\n",
    "y_test = test_data[target_column]\n",
    "\n",
    "# Handling missing values by filling with mean\n",
    "X_train = X_train.fillna(X_train.mean())\n",
    "X_test = X_test.fillna(X_test.mean())\n",
    "\n",
    "# Standardize the feature variables\n",
    "from sklearn.preprocessing import StandardScaler\n",
    "scaler = StandardScaler()\n",
    "X_train_scaled = scaler.fit_transform(X_train)\n",
    "X_test_scaled = scaler.transform(X_test)\n",
    "\n",
    "# Save the scaler for future use\n",
    "import joblib\n",
    "joblib.dump(scaler, 'scaler.joblib')\n"
   ]
  },
  {
   "cell_type": "markdown",
   "metadata": {},
   "source": [
    "#### This block separates the features and target variable from the training and testing datasets based on the correct target column name. It handles missing values by filling them with the mean of the columns. It then standardizes the feature variables using StandardScaler and saves the scaler for future use."
   ]
  },
  {
   "cell_type": "markdown",
   "metadata": {},
   "source": [
    "## Train the Model"
   ]
  },
  {
   "cell_type": "code",
   "execution_count": 3,
   "metadata": {},
   "outputs": [
    {
     "data": {
      "text/plain": [
       "['credit_scoring_model.joblib']"
      ]
     },
     "execution_count": 3,
     "metadata": {},
     "output_type": "execute_result"
    }
   ],
   "source": [
    "# Initialize the Linear Regression model\n",
    "from sklearn.linear_model import LinearRegression\n",
    "model = LinearRegression()\n",
    "\n",
    "# Train the model on the training data\n",
    "model.fit(X_train_scaled, y_train)\n",
    "\n",
    "# Save the trained model\n",
    "joblib.dump(model, 'credit_scoring_model.joblib')\n"
   ]
  },
  {
   "cell_type": "markdown",
   "metadata": {},
   "source": [
    "#### This block initializes a Linear Regression model and trains it on the standardized training data. The trained model is then saved using joblib."
   ]
  },
  {
   "cell_type": "markdown",
   "metadata": {},
   "source": [
    "## Evaluate the Model"
   ]
  },
  {
   "cell_type": "code",
   "execution_count": 4,
   "metadata": {},
   "outputs": [
    {
     "name": "stdout",
     "output_type": "stream",
     "text": [
      "Accuracy: 0.93155\n",
      "\n",
      "Confusion Matrix:\n",
      "[[13876   489]\n",
      " [  880  4755]]\n",
      "\n",
      "Classification Report:\n",
      "              precision    recall  f1-score   support\n",
      "\n",
      "         Bad       0.94      0.97      0.95     14365\n",
      "        Good       0.91      0.84      0.87      5635\n",
      "\n",
      "    accuracy                           0.93     20000\n",
      "   macro avg       0.92      0.90      0.91     20000\n",
      "weighted avg       0.93      0.93      0.93     20000\n",
      "\n"
     ]
    }
   ],
   "source": [
    "# Load the trained model and scaler\n",
    "loaded_model = joblib.load('credit_scoring_model.joblib')\n",
    "loaded_scaler = joblib.load('scaler.joblib')\n",
    "\n",
    "# Predict the credit scores on the test data\n",
    "y_pred_scores = loaded_model.predict(X_test_scaled)\n",
    "\n",
    "# Define a threshold to determine creditworthiness\n",
    "threshold = 700  # Example threshold, can be adjusted\n",
    "\n",
    "# Determine creditworthiness based on the threshold\n",
    "y_pred_creditworthiness = ['Good' if score >= threshold else 'Bad' for score in y_pred_scores]\n",
    "\n",
    "# Calculate accuracy and print evaluation metrics\n",
    "from sklearn.metrics import accuracy_score, confusion_matrix, classification_report\n",
    "y_test_creditworthiness = ['Good' if score >= threshold else 'Bad' for score in y_test]\n",
    "\n",
    "accuracy = accuracy_score(y_test_creditworthiness, y_pred_creditworthiness)\n",
    "conf_matrix = confusion_matrix(y_test_creditworthiness, y_pred_creditworthiness)\n",
    "class_report = classification_report(y_test_creditworthiness, y_pred_creditworthiness)\n",
    "\n",
    "print(f\"Accuracy: {accuracy}\")\n",
    "print(\"\\nConfusion Matrix:\")\n",
    "print(conf_matrix)\n",
    "print(\"\\nClassification Report:\")\n",
    "print(class_report)\n"
   ]
  },
  {
   "cell_type": "markdown",
   "metadata": {},
   "source": [
    "#### This block loads the trained model and scaler, predicts the credit scores on the test data, determines creditworthiness based on a defined threshold, calculates the accuracy, and prints the evaluation metrics including the confusion matrix and classification report."
   ]
  },
  {
   "cell_type": "markdown",
   "metadata": {},
   "source": [
    "## Save the Results"
   ]
  },
  {
   "cell_type": "code",
   "execution_count": 5,
   "metadata": {},
   "outputs": [
    {
     "name": "stdout",
     "output_type": "stream",
     "text": [
      "Results saved to 'credit_scoring_results.csv'\n"
     ]
    }
   ],
   "source": [
    "# Save the predictions and actual values in a DataFrame\n",
    "results = pd.DataFrame({\n",
    "    'Actual Credit Score': y_test,\n",
    "    'Predicted Credit Score': y_pred_scores,\n",
    "    'Actual Creditworthiness': y_test_creditworthiness,\n",
    "    'Predicted Creditworthiness': y_pred_creditworthiness\n",
    "})\n",
    "\n",
    "# Save the results to a CSV file\n",
    "results.to_csv('credit_scoring_results.csv', index=False)\n",
    "\n",
    "print(\"Results saved to 'credit_scoring_results.csv'\")\n"
   ]
  }
 ],
 "metadata": {
  "kernelspec": {
   "display_name": "Python 3",
   "language": "python",
   "name": "python3"
  },
  "language_info": {
   "codemirror_mode": {
    "name": "ipython",
    "version": 3
   },
   "file_extension": ".py",
   "mimetype": "text/x-python",
   "name": "python",
   "nbconvert_exporter": "python",
   "pygments_lexer": "ipython3",
   "version": "3.12.3"
  }
 },
 "nbformat": 4,
 "nbformat_minor": 2
}
